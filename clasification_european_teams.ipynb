{
 "cells": [
  {
   "cell_type": "markdown",
   "metadata": {},
   "source": [
    "# Clasificación: Predicción en la clasificación a partir del histórico de datos\n",
    "\n",
    "La dirección deportiva de un club de fútbol español nos ha pedido desarrollar un modelo de machine learning con el que podamos predecir si un equipo va a quedar entre los diez primeros o no. La idea que tienen es que si se tiene un histórico de datos y se puede predecir si un equipo estará entre los mejores o no en base a su performance en esa temporada, podrían sacar conclusiones antes de final de temporada y anticiparse a lo que está por venir.\n",
    "<br>\n",
    "<br>\n",
    "Nos comentan en la reunión que el histórico de partidos se refiere desde la temporada 16/17 hasta la 18/19, y en las principales ligas europeas: España, Italia, Alemania, Francia e Inglaterra. Y también nos dicen que en este dataset sólo tienen los goles que hizo el equipo, los goles que encajó y la posición en la que quedó. "
   ]
  },
  {
   "cell_type": "code",
   "execution_count": 1,
   "metadata": {},
   "outputs": [],
   "source": [
    "# Cargamos las librerías\n",
    "\n",
    "import pandas as pd\n",
    "pd.set_option('display.max_columns', None)\n",
    "import numpy as np\n",
    "\n",
    "from matplotlib import pyplot as plt\n",
    "import seaborn as sn\n",
    "\n",
    "import warnings\n",
    "warnings.filterwarnings(action=\"ignore\")\n",
    "\n",
    "from sklearn.model_selection import train_test_split\n",
    "from sklearn.model_selection import cross_val_score\n",
    "\n",
    "from sklearn.preprocessing import StandardScaler\n",
    "\n",
    "from sklearn.linear_model import LogisticRegression\n",
    "from sklearn.neighbors import KNeighborsClassifier\n",
    "from sklearn.linear_model import SGDClassifier\n",
    "from sklearn.naive_bayes import GaussianNB\n",
    "from sklearn.svm import LinearSVC\n",
    "from sklearn import tree\n",
    "from sklearn.ensemble import RandomForestClassifier\n",
    "\n",
    "from sklearn.model_selection import GridSearchCV\n",
    "\n",
    "from sklearn.metrics import accuracy_score\n",
    "from sklearn.metrics import confusion_matrix"
   ]
  },
  {
   "cell_type": "code",
   "execution_count": 2,
   "metadata": {},
   "outputs": [],
   "source": [
    "# Cargamos el dataset\n",
    "dt = pd.read_csv('data/Clasificacion.csv')"
   ]
  },
  {
   "cell_type": "code",
   "execution_count": 3,
   "metadata": {},
   "outputs": [
    {
     "data": {
      "text/html": [
       "<div>\n",
       "<style scoped>\n",
       "    .dataframe tbody tr th:only-of-type {\n",
       "        vertical-align: middle;\n",
       "    }\n",
       "\n",
       "    .dataframe tbody tr th {\n",
       "        vertical-align: top;\n",
       "    }\n",
       "\n",
       "    .dataframe thead th {\n",
       "        text-align: right;\n",
       "    }\n",
       "</style>\n",
       "<table border=\"1\" class=\"dataframe\">\n",
       "  <thead>\n",
       "    <tr style=\"text-align: right;\">\n",
       "      <th></th>\n",
       "      <th>TeamName</th>\n",
       "      <th>CompName</th>\n",
       "      <th>Season</th>\n",
       "      <th>Goals</th>\n",
       "      <th>Goals_Against</th>\n",
       "      <th>Position</th>\n",
       "      <th>Best_Teams</th>\n",
       "    </tr>\n",
       "  </thead>\n",
       "  <tbody>\n",
       "    <tr>\n",
       "      <td>0</td>\n",
       "      <td>Udinese Calcio</td>\n",
       "      <td>Serie A</td>\n",
       "      <td>2018-2019</td>\n",
       "      <td>39</td>\n",
       "      <td>53</td>\n",
       "      <td>12°</td>\n",
       "      <td>0</td>\n",
       "    </tr>\n",
       "    <tr>\n",
       "      <td>1</td>\n",
       "      <td>Torino FC</td>\n",
       "      <td>Serie A</td>\n",
       "      <td>2018-2019</td>\n",
       "      <td>52</td>\n",
       "      <td>37</td>\n",
       "      <td>7°</td>\n",
       "      <td>1</td>\n",
       "    </tr>\n",
       "    <tr>\n",
       "      <td>2</td>\n",
       "      <td>Bologna FC 1909</td>\n",
       "      <td>Serie A</td>\n",
       "      <td>2018-2019</td>\n",
       "      <td>48</td>\n",
       "      <td>56</td>\n",
       "      <td>10°</td>\n",
       "      <td>1</td>\n",
       "    </tr>\n",
       "    <tr>\n",
       "      <td>3</td>\n",
       "      <td>SPAL 2013</td>\n",
       "      <td>Serie A</td>\n",
       "      <td>2018-2019</td>\n",
       "      <td>44</td>\n",
       "      <td>56</td>\n",
       "      <td>13°</td>\n",
       "      <td>0</td>\n",
       "    </tr>\n",
       "    <tr>\n",
       "      <td>4</td>\n",
       "      <td>ACF Fiorentina</td>\n",
       "      <td>Serie A</td>\n",
       "      <td>2018-2019</td>\n",
       "      <td>47</td>\n",
       "      <td>45</td>\n",
       "      <td>16°</td>\n",
       "      <td>0</td>\n",
       "    </tr>\n",
       "  </tbody>\n",
       "</table>\n",
       "</div>"
      ],
      "text/plain": [
       "          TeamName CompName     Season  Goals  Goals_Against Position  \\\n",
       "0   Udinese Calcio  Serie A  2018-2019     39             53      12°   \n",
       "1        Torino FC  Serie A  2018-2019     52             37       7°   \n",
       "2  Bologna FC 1909  Serie A  2018-2019     48             56      10°   \n",
       "3        SPAL 2013  Serie A  2018-2019     44             56      13°   \n",
       "4   ACF Fiorentina  Serie A  2018-2019     47             45      16°   \n",
       "\n",
       "   Best_Teams  \n",
       "0           0  \n",
       "1           1  \n",
       "2           1  \n",
       "3           0  \n",
       "4           0  "
      ]
     },
     "execution_count": 3,
     "metadata": {},
     "output_type": "execute_result"
    }
   ],
   "source": [
    "dt.head()"
   ]
  },
  {
   "cell_type": "markdown",
   "metadata": {},
   "source": [
    "Tenemos una tabla con <strong>7 columnas</strong>, la llamada 'Best_Teams', que nos ofrece un valor booleano es la que te dice si el equipo quedó en la primera mitad de la tabla (1) o no (0)."
   ]
  },
  {
   "cell_type": "code",
   "execution_count": 4,
   "metadata": {},
   "outputs": [
    {
     "name": "stdout",
     "output_type": "stream",
     "text": [
      "<class 'pandas.core.frame.DataFrame'>\n",
      "RangeIndex: 294 entries, 0 to 293\n",
      "Data columns (total 7 columns):\n",
      "TeamName         294 non-null object\n",
      "CompName         294 non-null object\n",
      "Season           294 non-null object\n",
      "Goals            294 non-null int64\n",
      "Goals_Against    294 non-null int64\n",
      "Position         294 non-null object\n",
      "Best_Teams       294 non-null int64\n",
      "dtypes: int64(3), object(4)\n",
      "memory usage: 16.2+ KB\n"
     ]
    }
   ],
   "source": [
    "dt.info()"
   ]
  },
  {
   "cell_type": "code",
   "execution_count": 5,
   "metadata": {},
   "outputs": [
    {
     "data": {
      "text/html": [
       "<div>\n",
       "<style scoped>\n",
       "    .dataframe tbody tr th:only-of-type {\n",
       "        vertical-align: middle;\n",
       "    }\n",
       "\n",
       "    .dataframe tbody tr th {\n",
       "        vertical-align: top;\n",
       "    }\n",
       "\n",
       "    .dataframe thead th {\n",
       "        text-align: right;\n",
       "    }\n",
       "</style>\n",
       "<table border=\"1\" class=\"dataframe\">\n",
       "  <thead>\n",
       "    <tr style=\"text-align: right;\">\n",
       "      <th></th>\n",
       "      <th>Goals</th>\n",
       "      <th>Goals_Against</th>\n",
       "      <th>Best_Teams</th>\n",
       "    </tr>\n",
       "  </thead>\n",
       "  <tbody>\n",
       "    <tr>\n",
       "      <td>count</td>\n",
       "      <td>294.000000</td>\n",
       "      <td>294.000000</td>\n",
       "      <td>294.000000</td>\n",
       "    </tr>\n",
       "    <tr>\n",
       "      <td>mean</td>\n",
       "      <td>51.493197</td>\n",
       "      <td>51.493197</td>\n",
       "      <td>0.500000</td>\n",
       "    </tr>\n",
       "    <tr>\n",
       "      <td>std</td>\n",
       "      <td>18.056745</td>\n",
       "      <td>13.117152</td>\n",
       "      <td>0.500853</td>\n",
       "    </tr>\n",
       "    <tr>\n",
       "      <td>min</td>\n",
       "      <td>22.000000</td>\n",
       "      <td>22.000000</td>\n",
       "      <td>0.000000</td>\n",
       "    </tr>\n",
       "    <tr>\n",
       "      <td>25%</td>\n",
       "      <td>38.000000</td>\n",
       "      <td>42.250000</td>\n",
       "      <td>0.000000</td>\n",
       "    </tr>\n",
       "    <tr>\n",
       "      <td>50%</td>\n",
       "      <td>48.000000</td>\n",
       "      <td>52.000000</td>\n",
       "      <td>0.500000</td>\n",
       "    </tr>\n",
       "    <tr>\n",
       "      <td>75%</td>\n",
       "      <td>60.000000</td>\n",
       "      <td>60.000000</td>\n",
       "      <td>1.000000</td>\n",
       "    </tr>\n",
       "    <tr>\n",
       "      <td>max</td>\n",
       "      <td>116.000000</td>\n",
       "      <td>94.000000</td>\n",
       "      <td>1.000000</td>\n",
       "    </tr>\n",
       "  </tbody>\n",
       "</table>\n",
       "</div>"
      ],
      "text/plain": [
       "            Goals  Goals_Against  Best_Teams\n",
       "count  294.000000     294.000000  294.000000\n",
       "mean    51.493197      51.493197    0.500000\n",
       "std     18.056745      13.117152    0.500853\n",
       "min     22.000000      22.000000    0.000000\n",
       "25%     38.000000      42.250000    0.000000\n",
       "50%     48.000000      52.000000    0.500000\n",
       "75%     60.000000      60.000000    1.000000\n",
       "max    116.000000      94.000000    1.000000"
      ]
     },
     "execution_count": 5,
     "metadata": {},
     "output_type": "execute_result"
    }
   ],
   "source": [
    "dt.describe()"
   ]
  },
  {
   "cell_type": "markdown",
   "metadata": {},
   "source": [
    "Tenemos a un equipo que recibió 94 goles. Y el <strong>75% de los equipos no han metido más de 60 goles en una temporada.</strong>"
   ]
  },
  {
   "cell_type": "code",
   "execution_count": 6,
   "metadata": {},
   "outputs": [
    {
     "data": {
      "text/plain": [
       "array([[<matplotlib.axes._subplots.AxesSubplot object at 0x000001C243A82088>,\n",
       "        <matplotlib.axes._subplots.AxesSubplot object at 0x000001C2438F1988>,\n",
       "        <matplotlib.axes._subplots.AxesSubplot object at 0x000001C243D67708>]],\n",
       "      dtype=object)"
      ]
     },
     "execution_count": 6,
     "metadata": {},
     "output_type": "execute_result"
    },
    {
     "data": {
      "image/png": "[encoded data removed]",
      "text/plain": [
       "<Figure size 1296x216 with 3 Axes>"
      ]
     },
     "metadata": {
      "needs_background": "light"
     },
     "output_type": "display_data"
    }
   ],
   "source": [
    "dt.hist(bins=50, figsize=(18, 3), layout=(1, 3))"
   ]
  },
  {
   "cell_type": "markdown",
   "metadata": {},
   "source": [
    "Vemos que no hay escalas diferentes, tanto en Goals como en Goals_Against están en la misma escala y ciertamente parecidos, siguiendo unas distribuciones razonables.\n",
    "<br>\n",
    "También vemos que hay unos outliers en Goals, hay algunos pocos equipos que metieron más de 100 goles. Y en Goals_Against hay alguno también, fijémonos que hay algunos que recibieron más de 80 goles.\n",
    "\n",
    "Echemos un vistazo a dichos equipos:"
   ]
  },
  {
   "cell_type": "code",
   "execution_count": 7,
   "metadata": {},
   "outputs": [
    {
     "data": {
      "text/html": [
       "<div>\n",
       "<style scoped>\n",
       "    .dataframe tbody tr th:only-of-type {\n",
       "        vertical-align: middle;\n",
       "    }\n",
       "\n",
       "    .dataframe tbody tr th {\n",
       "        vertical-align: top;\n",
       "    }\n",
       "\n",
       "    .dataframe thead th {\n",
       "        text-align: right;\n",
       "    }\n",
       "</style>\n",
       "<table border=\"1\" class=\"dataframe\">\n",
       "  <thead>\n",
       "    <tr style=\"text-align: right;\">\n",
       "      <th></th>\n",
       "      <th>TeamName</th>\n",
       "      <th>CompName</th>\n",
       "      <th>Season</th>\n",
       "      <th>Goals</th>\n",
       "      <th>Goals_Against</th>\n",
       "      <th>Position</th>\n",
       "      <th>Best_Teams</th>\n",
       "    </tr>\n",
       "  </thead>\n",
       "  <tbody>\n",
       "    <tr>\n",
       "      <td>93</td>\n",
       "      <td>Manchester City FC</td>\n",
       "      <td>Premier League</td>\n",
       "      <td>2017-2018</td>\n",
       "      <td>106</td>\n",
       "      <td>27</td>\n",
       "      <td>1°</td>\n",
       "      <td>1</td>\n",
       "    </tr>\n",
       "    <tr>\n",
       "      <td>139</td>\n",
       "      <td>Paris Saint-Germain FC</td>\n",
       "      <td>Ligue 1</td>\n",
       "      <td>2018-2019</td>\n",
       "      <td>105</td>\n",
       "      <td>35</td>\n",
       "      <td>1°</td>\n",
       "      <td>1</td>\n",
       "    </tr>\n",
       "    <tr>\n",
       "      <td>140</td>\n",
       "      <td>Paris Saint-Germain FC</td>\n",
       "      <td>Ligue 1</td>\n",
       "      <td>2017-2018</td>\n",
       "      <td>108</td>\n",
       "      <td>29</td>\n",
       "      <td>1°</td>\n",
       "      <td>1</td>\n",
       "    </tr>\n",
       "    <tr>\n",
       "      <td>177</td>\n",
       "      <td>AS Monaco FC</td>\n",
       "      <td>Ligue 1</td>\n",
       "      <td>2016-2017</td>\n",
       "      <td>107</td>\n",
       "      <td>31</td>\n",
       "      <td>1°</td>\n",
       "      <td>1</td>\n",
       "    </tr>\n",
       "    <tr>\n",
       "      <td>232</td>\n",
       "      <td>Real Madrid CF</td>\n",
       "      <td>La Liga</td>\n",
       "      <td>2016-2017</td>\n",
       "      <td>106</td>\n",
       "      <td>41</td>\n",
       "      <td>1°</td>\n",
       "      <td>1</td>\n",
       "    </tr>\n",
       "    <tr>\n",
       "      <td>239</td>\n",
       "      <td>FC Barcelona</td>\n",
       "      <td>La Liga</td>\n",
       "      <td>2016-2017</td>\n",
       "      <td>116</td>\n",
       "      <td>37</td>\n",
       "      <td>2°</td>\n",
       "      <td>1</td>\n",
       "    </tr>\n",
       "  </tbody>\n",
       "</table>\n",
       "</div>"
      ],
      "text/plain": [
       "                   TeamName        CompName     Season  Goals  Goals_Against  \\\n",
       "93       Manchester City FC  Premier League  2017-2018    106             27   \n",
       "139  Paris Saint-Germain FC         Ligue 1  2018-2019    105             35   \n",
       "140  Paris Saint-Germain FC         Ligue 1  2017-2018    108             29   \n",
       "177            AS Monaco FC         Ligue 1  2016-2017    107             31   \n",
       "232          Real Madrid CF         La Liga  2016-2017    106             41   \n",
       "239            FC Barcelona         La Liga  2016-2017    116             37   \n",
       "\n",
       "    Position  Best_Teams  \n",
       "93        1°           1  \n",
       "139       1°           1  \n",
       "140       1°           1  \n",
       "177       1°           1  \n",
       "232       1°           1  \n",
       "239       2°           1  "
      ]
     },
     "execution_count": 7,
     "metadata": {},
     "output_type": "execute_result"
    }
   ],
   "source": [
    "dt[dt['Goals'] > 100.0]"
   ]
  },
  {
   "cell_type": "code",
   "execution_count": 8,
   "metadata": {},
   "outputs": [
    {
     "data": {
      "text/html": [
       "<div>\n",
       "<style scoped>\n",
       "    .dataframe tbody tr th:only-of-type {\n",
       "        vertical-align: middle;\n",
       "    }\n",
       "\n",
       "    .dataframe tbody tr th {\n",
       "        vertical-align: top;\n",
       "    }\n",
       "\n",
       "    .dataframe thead th {\n",
       "        text-align: right;\n",
       "    }\n",
       "</style>\n",
       "<table border=\"1\" class=\"dataframe\">\n",
       "  <thead>\n",
       "    <tr style=\"text-align: right;\">\n",
       "      <th></th>\n",
       "      <th>TeamName</th>\n",
       "      <th>CompName</th>\n",
       "      <th>Season</th>\n",
       "      <th>Goals</th>\n",
       "      <th>Goals_Against</th>\n",
       "      <th>Position</th>\n",
       "      <th>Best_Teams</th>\n",
       "    </tr>\n",
       "  </thead>\n",
       "  <tbody>\n",
       "    <tr>\n",
       "      <td>32</td>\n",
       "      <td>Benevento Calcio</td>\n",
       "      <td>Serie A</td>\n",
       "      <td>2017-2018</td>\n",
       "      <td>33</td>\n",
       "      <td>84</td>\n",
       "      <td>20°</td>\n",
       "      <td>0</td>\n",
       "    </tr>\n",
       "    <tr>\n",
       "      <td>50</td>\n",
       "      <td>Delfino Pescara 1936</td>\n",
       "      <td>Serie A</td>\n",
       "      <td>2016-2017</td>\n",
       "      <td>37</td>\n",
       "      <td>81</td>\n",
       "      <td>20°</td>\n",
       "      <td>0</td>\n",
       "    </tr>\n",
       "    <tr>\n",
       "      <td>61</td>\n",
       "      <td>Fulham FC</td>\n",
       "      <td>Premier League</td>\n",
       "      <td>2018-2019</td>\n",
       "      <td>34</td>\n",
       "      <td>81</td>\n",
       "      <td>19°</td>\n",
       "      <td>0</td>\n",
       "    </tr>\n",
       "    <tr>\n",
       "      <td>229</td>\n",
       "      <td>Granada CF</td>\n",
       "      <td>La Liga</td>\n",
       "      <td>2016-2017</td>\n",
       "      <td>30</td>\n",
       "      <td>82</td>\n",
       "      <td>20°</td>\n",
       "      <td>0</td>\n",
       "    </tr>\n",
       "    <tr>\n",
       "      <td>237</td>\n",
       "      <td>CA Osasuna</td>\n",
       "      <td>La Liga</td>\n",
       "      <td>2016-2017</td>\n",
       "      <td>40</td>\n",
       "      <td>94</td>\n",
       "      <td>19°</td>\n",
       "      <td>0</td>\n",
       "    </tr>\n",
       "  </tbody>\n",
       "</table>\n",
       "</div>"
      ],
      "text/plain": [
       "                 TeamName        CompName     Season  Goals  Goals_Against  \\\n",
       "32       Benevento Calcio         Serie A  2017-2018     33             84   \n",
       "50   Delfino Pescara 1936         Serie A  2016-2017     37             81   \n",
       "61              Fulham FC  Premier League  2018-2019     34             81   \n",
       "229            Granada CF         La Liga  2016-2017     30             82   \n",
       "237            CA Osasuna         La Liga  2016-2017     40             94   \n",
       "\n",
       "    Position  Best_Teams  \n",
       "32       20°           0  \n",
       "50       20°           0  \n",
       "61       19°           0  \n",
       "229      20°           0  \n",
       "237      19°           0  "
      ]
     },
     "execution_count": 8,
     "metadata": {},
     "output_type": "execute_result"
    }
   ],
   "source": [
    "dt[dt['Goals_Against'] > 80.0]"
   ]
  },
  {
   "cell_type": "markdown",
   "metadata": {},
   "source": [
    "### Train_set & Test_set\n",
    "\n",
    "Vamos a separar nuestro set en dos partes, una para entrenar al modelo y otra para testarlo cuando acabemos de entrenarlo. "
   ]
  },
  {
   "cell_type": "code",
   "execution_count": 9,
   "metadata": {},
   "outputs": [],
   "source": [
    "# Fijamos el set de test en un 20% del original, y para entrenar el 80%.\n",
    "size = 0.2\n",
    "train_set, test_set = train_test_split(dt, test_size=size, random_state=42)"
   ]
  },
  {
   "cell_type": "code",
   "execution_count": 10,
   "metadata": {},
   "outputs": [
    {
     "name": "stdout",
     "output_type": "stream",
     "text": [
      "<class 'pandas.core.frame.DataFrame'>\n",
      "Int64Index: 235 entries, 181 to 102\n",
      "Data columns (total 7 columns):\n",
      "TeamName         235 non-null object\n",
      "CompName         235 non-null object\n",
      "Season           235 non-null object\n",
      "Goals            235 non-null int64\n",
      "Goals_Against    235 non-null int64\n",
      "Position         235 non-null object\n",
      "Best_Teams       235 non-null int64\n",
      "dtypes: int64(3), object(4)\n",
      "memory usage: 14.7+ KB\n"
     ]
    }
   ],
   "source": [
    "train_set.info()"
   ]
  },
  {
   "cell_type": "code",
   "execution_count": 11,
   "metadata": {},
   "outputs": [
    {
     "name": "stdout",
     "output_type": "stream",
     "text": [
      "<class 'pandas.core.frame.DataFrame'>\n",
      "Int64Index: 59 entries, 33 to 230\n",
      "Data columns (total 7 columns):\n",
      "TeamName         59 non-null object\n",
      "CompName         59 non-null object\n",
      "Season           59 non-null object\n",
      "Goals            59 non-null int64\n",
      "Goals_Against    59 non-null int64\n",
      "Position         59 non-null object\n",
      "Best_Teams       59 non-null int64\n",
      "dtypes: int64(3), object(4)\n",
      "memory usage: 3.7+ KB\n"
     ]
    }
   ],
   "source": [
    "test_set.info()"
   ]
  },
  {
   "cell_type": "markdown",
   "metadata": {},
   "source": [
    "### EDA: Exploratory Data Analysis\n",
    "\n",
    "<strong>Vamos a trabajar con el set de entrenamiento (train_set)</strong>."
   ]
  },
  {
   "cell_type": "markdown",
   "metadata": {},
   "source": [
    "#### Correlaciones"
   ]
  },
  {
   "cell_type": "code",
   "execution_count": 12,
   "metadata": {},
   "outputs": [
    {
     "data": {
      "text/plain": [
       "Best_Teams       1.000000\n",
       "Goals            0.607867\n",
       "Goals_Against   -0.623922\n",
       "Name: Best_Teams, dtype: float64"
      ]
     },
     "execution_count": 12,
     "metadata": {},
     "output_type": "execute_result"
    }
   ],
   "source": [
    "corr_matrix = train_set.corr()\n",
    "corr_matrix['Best_Teams'].sort_values(ascending=False)"
   ]
  },
  {
   "cell_type": "markdown",
   "metadata": {},
   "source": [
    "Esta matriz nos ofrece la correlación lineal entre variables, en este caso cada variable frente a Best_Teams. \n",
    "<br>\n",
    "<br>\n",
    "Hay una correlación de 0.6 entre los goles y la label a predecir, y a su vez una correlación de 0.62 entre Goals_Against y la label a predecir. Es decir, que cuantos más goles, mejor posición (1). Y que cuantos más goles encajas, peor posición (0), de ahí la relación negativa."
   ]
  },
  {
   "cell_type": "markdown",
   "metadata": {},
   "source": [
    "#### Heatmap"
   ]
  },
  {
   "cell_type": "code",
   "execution_count": 15,
   "metadata": {
    "scrolled": true
   },
   "outputs": [
    {
     "data": {
      "image/png": "[encoded data removed]",
      "text/plain": [
       "<Figure size 432x288 with 2 Axes>"
      ]
     },
     "metadata": {
      "needs_background": "light"
     },
     "output_type": "display_data"
    }
   ],
   "source": [
    "corr_matrix = train_set.corr()\n",
    "heatmap = sn.heatmap(corr_matrix, annot=True)\n",
    "heatmap.set(ylim=(0,len(corr_matrix)))\n",
    "heatmap.set(xlim=(0,len(corr_matrix)))\n",
    "\n",
    "plt.show()"
   ]
  },
  {
   "cell_type": "code",
   "execution_count": 16,
   "metadata": {},
   "outputs": [
    {
     "data": {
      "text/plain": [
       "<matplotlib.legend.Legend at 0x1c2441ca488>"
      ]
     },
     "execution_count": 16,
     "metadata": {},
     "output_type": "execute_result"
    },
    {
     "data": {
      "image/png": "[encoded data removed]",
      "text/plain": [
       "<Figure size 432x288 with 1 Axes>"
      ]
     },
     "metadata": {
      "needs_background": "light"
     },
     "output_type": "display_data"
    }
   ],
   "source": [
    "# Creamos dos datasets, cada uno para su mitad.\n",
    "Mitad_1 = train_set[train_set['Best_Teams']==1]\n",
    "Mitad_0 = train_set[train_set['Best_Teams']==0]\n",
    "\n",
    "# Mostramos los dos datasets: en rojo los 10 peores y en azul los 10 mejores\n",
    "plt.scatter(Mitad_1['Goals'], Mitad_1['Goals_Against'], marker='o', color='b')\n",
    "plt.scatter(Mitad_0['Goals'], Mitad_0['Goals_Against'], marker='o', color='r')\n",
    "\n",
    "# Ponemos los ejes\n",
    "plt.xlabel(\"Goals\")\n",
    "plt.ylabel(\"Goals_Against\")\n",
    "\n",
    "# Escribimos la leyenda (qué épico suena)\n",
    "plt.legend(('Primera mitad de la tabla', 'Segunda mitad de la tabla'), scatterpoints=1, loc='upper right', ncol=1, fontsize=8)"
   ]
  },
  {
   "cell_type": "markdown",
   "metadata": {},
   "source": [
    "Podemos ver cómo hay más círculos azules (los que han quedado en la primera mitad de la tabla) cuantos más goles se meten. Hay algún outlier, pero se puede ver cómo dichos outliers han recibido poquísimos goles. Parece una tendencia muy lógica: o metemos muchos goles o nos encajan muy pocos, pero si no seguimos una tendencia así somos un equipo débil que quedará en la segunda mitad de tabla con riesgo de descenso.\n",
    "Y del mismo modo vemos cómo hay equipos en rojo (segunda mitad) que no encajaron muchos goles y sí les encajaron muchos. Algunos metieron casi 60 goles, no está mal, pero recibieron casi 80, un balance muy pobre."
   ]
  },
  {
   "cell_type": "markdown",
   "metadata": {},
   "source": [
    "##### Conclusiones\n",
    "\n",
    " - Las variables Goals y Goals_Against son muy relevantes para predecir Best_Teams.\n",
    " - No hay valores nulos, podemos evitar el 'Data Cleaning'."
   ]
  },
  {
   "cell_type": "markdown",
   "metadata": {},
   "source": [
    "##### Preparación de los datos\n",
    "\n",
    "Lo queremos hacer como una función porque más adelante, cuando tengamos que testar nuestro modelo con el set de test, tendremos que pasarle estas transformaciones a dicho set."
   ]
  },
  {
   "cell_type": "code",
   "execution_count": 21,
   "metadata": {},
   "outputs": [],
   "source": [
    "def PreparingData_v2(dt):\n",
    "    dt = PreparingData(dt)\n",
    "    dt = dt[['Goals', 'Goals_Against', 'Best_Teams']]\n",
    "    \n",
    "    return dt"
   ]
  },
  {
   "cell_type": "code",
   "execution_count": 22,
   "metadata": {},
   "outputs": [],
   "source": [
    "train_set = PreparingData_v2(train_set)"
   ]
  },
  {
   "cell_type": "markdown",
   "metadata": {},
   "source": [
    "Vamos a crear una función que nos separe el dataset procesado en features y labels."
   ]
  },
  {
   "cell_type": "code",
   "execution_count": 23,
   "metadata": {},
   "outputs": [],
   "source": [
    "def splitDT(dt, label):\n",
    "    labels = dt[[label]]\n",
    "    features = dt.drop([label], axis=1)\n",
    "\n",
    "    return features, labels"
   ]
  },
  {
   "cell_type": "markdown",
   "metadata": {},
   "source": [
    "### Modeling\n",
    "\n",
    "En esta fase vamos a analizar:\n",
    " - Logistic Regression\n",
    " - KNN\n",
    " - SGD Classifier\n",
    " - Naive Bayes\n",
    " - SVM Classifier\n",
    " - Decision Tree Classifier\n",
    " - Random Forest Classifier"
   ]
  },
  {
   "cell_type": "code",
   "execution_count": 24,
   "metadata": {},
   "outputs": [],
   "source": [
    "X_train, y_train = splitDT(train_set, 'Best_Teams')"
   ]
  },
  {
   "cell_type": "code",
   "execution_count": 25,
   "metadata": {},
   "outputs": [],
   "source": [
    "def Display_Score(labels, predictions):\n",
    "    acc = accuracy_score(labels, predictions)\n",
    "    print(\"No Cross Validation\")\n",
    "    print(\"Accuracy Score: \", acc)\n",
    "    print(\"----------\")"
   ]
  },
  {
   "cell_type": "code",
   "execution_count": 26,
   "metadata": {},
   "outputs": [],
   "source": [
    "def Display_CV_Scores(scores):\n",
    "    print(\"Cross Validation\")\n",
    "    print(\"Accuracy Scores:\", scores)\n",
    "    print(\"Accuracy Mean:\", scores.mean())\n",
    "    print(\"Accuracy Standard deviation:\", scores.std())"
   ]
  },
  {
   "cell_type": "code",
   "execution_count": 27,
   "metadata": {},
   "outputs": [],
   "source": [
    "def VisualizeConfusionMatrix(X, y, pred):\n",
    "    \n",
    "    cm = confusion_matrix(y, pred)\n",
    "    \n",
    "    df_cm = pd.DataFrame(cm, columns=np.unique(y), index = np.unique(y))\n",
    "    df_cm.index.name = 'Actual'\n",
    "    df_cm.columns.name = 'Predicted'\n",
    "    \n",
    "    plt.figure(figsize = (6,4))\n",
    "\n",
    "    heatmap = sn.heatmap(df_cm, cmap=\"Blues\", annot=True, fmt='g')\n",
    "    heatmap.set(ylim=(0,len(df_cm)))\n",
    "    heatmap.set(xlim=(0,len(df_cm)))"
   ]
  },
  {
   "cell_type": "markdown",
   "metadata": {},
   "source": [
    "#### Logistic Regression"
   ]
  },
  {
   "cell_type": "code",
   "execution_count": 28,
   "metadata": {},
   "outputs": [
    {
     "name": "stdout",
     "output_type": "stream",
     "text": [
      "No Cross Validation\n",
      "Accuracy Score:  0.8808510638297873\n",
      "----------\n",
      "Cross Validation\n",
      "Accuracy Scores: [0.95833333 0.79166667 0.83333333 0.875      0.91666667 0.91666667\n",
      " 0.91666667 0.82608696 0.95454545 0.81818182]\n",
      "Accuracy Mean: 0.8807147562582346\n",
      "Accuracy Standard deviation: 0.056969307428383055\n"
     ]
    },
    {
     "data": {
      "image/png": "[encoded data removed]",
      "text/plain": [
       "<Figure size 432x288 with 2 Axes>"
      ]
     },
     "metadata": {
      "needs_background": "light"
     },
     "output_type": "display_data"
    }
   ],
   "source": [
    "# Entrenamos el modelo\n",
    "lr = LogisticRegression(random_state=42)\n",
    "lr.fit(X_train, y_train)\n",
    "\n",
    "# Predicciones en el set de entrenamiento\n",
    "lr_pred = lr.predict(X_train)\n",
    "\n",
    "# Métricas obtenidas sin CV\n",
    "Display_Score(y_train, lr_pred)\n",
    "\n",
    "# Métricas obtenidas con CV\n",
    "lr_cv = LogisticRegression(random_state=42)\n",
    "lr_cv_scores = cross_val_score(lr_cv, X_train, y_train, scoring=\"accuracy\", cv=10)\n",
    "Display_CV_Scores(lr_cv_scores)\n",
    "\n",
    "# Visualizacion\n",
    "VisualizeConfusionMatrix(X_train, y_train, lr_pred)"
   ]
  },
  {
   "cell_type": "markdown",
   "metadata": {},
   "source": [
    "Conclusiones de este modelo:\n",
    " - Podemos ver que no hace overfitting, ya que usando el CV el resultado es muy similar.\n",
    " - Vemos que el accuracy es muy alto, de un casi 90%.\n",
    " - Podemos ver que de la clase 0 (los peores de la temporada) tenemos un total de 118, de los cuales hemos predecido 107 bien. Sólo 11 hemos dicho que eran 1 pero en realidad eran 0.\n",
    " - Y de la clase 1 (los mejores de la temporada) tenemos un total de 117, de los cuales hemos predecido correctamente 100.\n",
    " - Los números no están nada mal, parece que con los goles que hace un equipo y los que encaja podemos encontrar cierta buena predicción para saber si quedarán en una mitad o en la otra, algo lógico por otro lado."
   ]
  },
  {
   "cell_type": "markdown",
   "metadata": {},
   "source": [
    "####  KNN"
   ]
  },
  {
   "cell_type": "code",
   "execution_count": 29,
   "metadata": {},
   "outputs": [
    {
     "name": "stdout",
     "output_type": "stream",
     "text": [
      "No Cross Validation\n",
      "Accuracy Score:  0.8936170212765957\n",
      "----------\n",
      "Cross Validation\n",
      "Accuracy Scores: [0.83333333 0.75       0.70833333 0.75       0.91666667 0.83333333\n",
      " 0.83333333 0.82608696 0.72727273 0.86363636]\n",
      "Accuracy Mean: 0.804199604743083\n",
      "Accuracy Standard deviation: 0.0633957630272045\n"
     ]
    },
    {
     "data": {
      "image/png": "[encoded data removed]",
      "text/plain": [
       "<Figure size 432x288 with 2 Axes>"
      ]
     },
     "metadata": {
      "needs_background": "light"
     },
     "output_type": "display_data"
    }
   ],
   "source": [
    "# Entrenamos el modelo\n",
    "knn = KNeighborsClassifier(n_neighbors=2)\n",
    "knn.fit(X_train, y_train)\n",
    "\n",
    "# Predicciones en el set de entrenamiento\n",
    "knn_pred = knn.predict(X_train)\n",
    "\n",
    "# Métricas obtenidas sin CV\n",
    "Display_Score(y_train, knn_pred)\n",
    "\n",
    "# Métricas obtenidas con CV\n",
    "knn_cv = KNeighborsClassifier(n_neighbors=3)\n",
    "knn_cv_scores = cross_val_score(knn_cv, X_train, y_train, scoring=\"accuracy\", cv=10)\n",
    "Display_CV_Scores(knn_cv_scores)\n",
    "\n",
    "# Visualizacion\n",
    "VisualizeConfusionMatrix(X_train, y_train, knn_pred)"
   ]
  },
  {
   "cell_type": "markdown",
   "metadata": {},
   "source": [
    "Conclusiones de este modelo:\n",
    " - Podemos ver que el accuracy sin CV es más alto, pero en CV vemos que baja mucho. Estamos detectando que el algoritmo hace overfitting.\n",
    " - Gestiona mejor la clase 0 que la 1, predice mejor los que van a quedar por abajo."
   ]
  },
  {
   "cell_type": "markdown",
   "metadata": {},
   "source": [
    "####  SGD Classifier"
   ]
  },
  {
   "cell_type": "code",
   "execution_count": 30,
   "metadata": {},
   "outputs": [
    {
     "name": "stdout",
     "output_type": "stream",
     "text": [
      "No Cross Validation\n",
      "Accuracy Score:  0.8723404255319149\n",
      "----------\n",
      "Cross Validation\n",
      "Accuracy Scores: [0.91666667 0.75       0.875      0.875      0.91666667 0.91666667\n",
      " 0.91666667 0.82608696 0.86363636 0.86363636]\n",
      "Accuracy Mean: 0.8720026350461133\n",
      "Accuracy Standard deviation: 0.05013018328601314\n"
     ]
    },
    {
     "data": {
      "image/png": "[encoded data removed]",
      "text/plain": [
       "<Figure size 432x288 with 2 Axes>"
      ]
     },
     "metadata": {
      "needs_background": "light"
     },
     "output_type": "display_data"
    }
   ],
   "source": [
    "# Entrenamos el modelo\n",
    "sgd = SGDClassifier(max_iter=1000, tol=1e-3, random_state=42)\n",
    "sgd.fit(X_train, y_train)\n",
    "\n",
    "# Predicciones en el set de entrenamiento\n",
    "sgd_pred = sgd.predict(X_train)\n",
    "\n",
    "# Métricas obtenidas sin CV\n",
    "Display_Score(y_train, sgd_pred)\n",
    "\n",
    "# Métricas obtenidas con CV\n",
    "sgd_cv = SGDClassifier(max_iter=1000, tol=1e-3, random_state=42)\n",
    "sgd_cv_scores = cross_val_score(sgd_cv, X_train, y_train, scoring=\"accuracy\", cv=10)\n",
    "Display_CV_Scores(sgd_cv_scores)\n",
    "\n",
    "# Visualizacion\n",
    "VisualizeConfusionMatrix(X_train, y_train, sgd_pred)"
   ]
  },
  {
   "cell_type": "markdown",
   "metadata": {},
   "source": [
    "Conclusiones de este modelo:\n",
    " - Muy similar a Logistic Regression, aunque un poco peor.\n",
    " - Vemos los resultados que no hacen overfitting, pero el accuracy y la matriz de confusión lucen peor."
   ]
  },
  {
   "cell_type": "markdown",
   "metadata": {},
   "source": [
    "####  Naive Bayes"
   ]
  },
  {
   "cell_type": "code",
   "execution_count": 31,
   "metadata": {},
   "outputs": [
    {
     "name": "stdout",
     "output_type": "stream",
     "text": [
      "No Cross Validation\n",
      "Accuracy Score:  0.8638297872340426\n",
      "----------\n",
      "Cross Validation\n",
      "Accuracy Scores: [0.95833333 0.83333333 0.875      0.875      0.95833333 0.875\n",
      " 0.83333333 0.86956522 0.77272727 0.86363636]\n",
      "Accuracy Mean: 0.8714262187088275\n",
      "Accuracy Standard deviation: 0.052774777897353735\n"
     ]
    },
    {
     "data": {
      "image/png": "[encoded data removed]",
      "text/plain": [
       "<Figure size 432x288 with 2 Axes>"
      ]
     },
     "metadata": {
      "needs_background": "light"
     },
     "output_type": "display_data"
    }
   ],
   "source": [
    "# Entrenamos el modelo\n",
    "nb = GaussianNB()\n",
    "nb.fit(X_train, y_train)\n",
    "\n",
    "# Predicciones en el set de entrenamiento\n",
    "nb_pred = nb.predict(X_train)\n",
    "\n",
    "# Métricas obtenidas sin CV\n",
    "Display_Score(y_train, nb_pred)\n",
    "\n",
    "# Métricas obtenidas con CV\n",
    "nb_cv = GaussianNB()\n",
    "nb_cv_scores = cross_val_score(nb_cv, X_train, y_train, scoring=\"accuracy\", cv=10)\n",
    "Display_CV_Scores(nb_cv_scores)\n",
    "\n",
    "# Visualizacion\n",
    "VisualizeConfusionMatrix(X_train, y_train, nb_pred)"
   ]
  },
  {
   "cell_type": "markdown",
   "metadata": {},
   "source": [
    "Conclusiones de este modelo:\n",
    " - Similar al anterior modelo, no hay overfitting y el accuracy es ligeramente peor."
   ]
  },
  {
   "cell_type": "markdown",
   "metadata": {},
   "source": [
    "####  SVM Classifier"
   ]
  },
  {
   "cell_type": "code",
   "execution_count": 32,
   "metadata": {},
   "outputs": [
    {
     "name": "stdout",
     "output_type": "stream",
     "text": [
      "No Cross Validation\n",
      "Accuracy Score:  0.8808510638297873\n",
      "----------\n",
      "Cross Validation\n",
      "Accuracy Scores: [0.95833333 0.79166667 0.83333333 0.875      0.91666667 0.91666667\n",
      " 0.91666667 0.82608696 0.95454545 0.81818182]\n",
      "Accuracy Mean: 0.8807147562582346\n",
      "Accuracy Standard deviation: 0.056969307428383055\n"
     ]
    },
    {
     "data": {
      "image/png": "[encoded data removed]",
      "text/plain": [
       "<Figure size 432x288 with 2 Axes>"
      ]
     },
     "metadata": {
      "needs_background": "light"
     },
     "output_type": "display_data"
    }
   ],
   "source": [
    "# Entrenamos el modelo\n",
    "svm = LinearSVC(random_state=0, tol=1e-5)\n",
    "svm.fit(X_train, y_train)\n",
    "\n",
    "# Predicciones en el set de entrenamiento\n",
    "svm_pred = svm.predict(X_train)\n",
    "\n",
    "# Métricas obtenidas sin CV\n",
    "Display_Score(y_train, svm_pred)\n",
    "\n",
    "# Métricas obtenidas con CV\n",
    "svm_cv = LinearSVC(random_state=0, tol=1e-5)\n",
    "svm_cv_scores = cross_val_score(svm_cv, X_train, y_train, scoring=\"accuracy\", cv=10)\n",
    "Display_CV_Scores(svm_cv_scores)\n",
    "\n",
    "# Visualizacion\n",
    "VisualizeConfusionMatrix(X_train, y_train, svm_pred)"
   ]
  },
  {
   "cell_type": "markdown",
   "metadata": {},
   "source": [
    "Conclusiones de este modelo:\n",
    " - Muy similar a logistic regression, siendo una métrica similar. "
   ]
  },
  {
   "cell_type": "markdown",
   "metadata": {},
   "source": [
    "####  Decision Tree Classifier"
   ]
  },
  {
   "cell_type": "code",
   "execution_count": 33,
   "metadata": {},
   "outputs": [
    {
     "name": "stdout",
     "output_type": "stream",
     "text": [
      "No Cross Validation\n",
      "Accuracy Score:  0.9872340425531915\n",
      "----------\n",
      "Cross Validation\n",
      "Accuracy Scores: [0.91666667 0.75       0.66666667 0.79166667 0.91666667 0.875\n",
      " 0.79166667 0.7826087  0.77272727 0.77272727]\n",
      "Accuracy Mean: 0.8036396574440052\n",
      "Accuracy Standard deviation: 0.07410902684457252\n"
     ]
    },
    {
     "data": {
      "image/png": "[encoded data removed]",
      "text/plain": [
       "<Figure size 432x288 with 2 Axes>"
      ]
     },
     "metadata": {
      "needs_background": "light"
     },
     "output_type": "display_data"
    }
   ],
   "source": [
    "# Entrenamos el modelo\n",
    "dtree = tree.DecisionTreeClassifier()\n",
    "dtree.fit(X_train, y_train)\n",
    "\n",
    "# Predicciones en el set de entrenamiento\n",
    "dtree_pred = dtree.predict(X_train)\n",
    "\n",
    "# Métricas obtenidas sin CV\n",
    "Display_Score(y_train, dtree_pred)\n",
    "\n",
    "# Métricas obtenidas con CV\n",
    "dtree_cv = tree.DecisionTreeClassifier()\n",
    "dtree_cv_scores = cross_val_score(dtree_cv, X_train, y_train, scoring=\"accuracy\", cv=10)\n",
    "Display_CV_Scores(dtree_cv_scores)\n",
    "\n",
    "# Visualizacion\n",
    "VisualizeConfusionMatrix(X_train, y_train, dtree_pred)"
   ]
  },
  {
   "cell_type": "markdown",
   "metadata": {},
   "source": [
    "Conclusiones de este modelo:\n",
    " - Overfitting. Accuracy, casi del 100%, pero en CV baja al 80%. Y vemos cómo solo falla en 3 resultados en la matriz de confusión."
   ]
  },
  {
   "cell_type": "markdown",
   "metadata": {},
   "source": [
    "####  Random Forest Classifier"
   ]
  },
  {
   "cell_type": "code",
   "execution_count": 34,
   "metadata": {},
   "outputs": [
    {
     "name": "stdout",
     "output_type": "stream",
     "text": [
      "No Cross Validation\n",
      "Accuracy Score:  0.8468085106382979\n",
      "----------\n",
      "Cross Validation\n",
      "Accuracy Scores: [0.875      0.79166667 0.70833333 0.79166667 0.91666667 0.83333333\n",
      " 0.91666667 0.7826087  0.81818182 0.86363636]\n",
      "Accuracy Mean: 0.829776021080369\n",
      "Accuracy Standard deviation: 0.061900329920275186\n"
     ]
    },
    {
     "data": {
      "image/png": "[encoded data removed]",
      "text/plain": [
       "<Figure size 432x288 with 2 Axes>"
      ]
     },
     "metadata": {
      "needs_background": "light"
     },
     "output_type": "display_data"
    }
   ],
   "source": [
    "# Entrenamos el modelo\n",
    "rf = RandomForestClassifier(max_depth=2, random_state=42)\n",
    "rf.fit(X_train, y_train)\n",
    "\n",
    "# Predicciones en el set de entrenamiento\n",
    "rf_pred = rf.predict(X_train)\n",
    "\n",
    "# Métricas obtenidas sin CV\n",
    "Display_Score(y_train, rf_pred)\n",
    "\n",
    "# Métricas obtenidas con CV\n",
    "rf_cv = RandomForestClassifier(max_depth=2, random_state=42)\n",
    "rf_cv_scores = cross_val_score(rf_cv, X_train, y_train, scoring=\"accuracy\", cv=10)\n",
    "Display_CV_Scores(rf_cv_scores)\n",
    "\n",
    "# Visualizacion\n",
    "VisualizeConfusionMatrix(X_train, y_train, rf_pred)"
   ]
  },
  {
   "cell_type": "markdown",
   "metadata": {},
   "source": [
    "Conclusiones de este modelo:\n",
    " - No hay overfitting, pero las métricas son mucho peores que las vistas anteriormente."
   ]
  },
  {
   "cell_type": "markdown",
   "metadata": {},
   "source": [
    "### Hyperparameters\n",
    "\n",
    "Vamos a proceder a seleccionar el mejor modelo con intención de<strong>mejorarlo para ver cual es nuestro modelo final con sus mejores hyperparameters.</strong>\n",
    "\n",
    "El mejor modelo ha sido <strong>Logistic Regression</strong>, lo podemos ver en el accuracy que nos ha dado el modelo así como la matriz de confusión."
   ]
  },
  {
   "cell_type": "code",
   "execution_count": 35,
   "metadata": {},
   "outputs": [
    {
     "name": "stdout",
     "output_type": "stream",
     "text": [
      "Best estimator: LogisticRegression(C=1, class_weight=None, dual=False, fit_intercept=True,\n",
      "                   intercept_scaling=1, l1_ratio=None, max_iter=100,\n",
      "                   multi_class='warn', n_jobs=None, penalty='l1',\n",
      "                   random_state=42, solver='warn', tol=0.0001, verbose=0,\n",
      "                   warm_start=False)\n",
      "Best parameter (CV score=0.881):\n",
      "----------\n",
      "No Cross Validation\n",
      "Accuracy Score:  0.8808510638297873\n",
      "----------\n",
      "Cross Validation\n",
      "Accuracy Scores: [0.95833333 0.79166667 0.83333333 0.875      0.91666667 0.91666667\n",
      " 0.91666667 0.82608696 0.95454545 0.81818182]\n",
      "Accuracy Mean: 0.8807147562582346\n",
      "Accuracy Standard deviation: 0.056969307428383055\n"
     ]
    },
    {
     "name": "stderr",
     "output_type": "stream",
     "text": [
      "C:\\Users\\egarc\\Anaconda3\\lib\\site-packages\\sklearn\\model_selection\\_search.py:814: DeprecationWarning: The default of the `iid` parameter will change from True to False in version 0.22 and will be removed in 0.24. This will change numeric results when test-set sizes are unequal.\n",
      "  DeprecationWarning)\n"
     ]
    },
    {
     "data": {
      "image/png": "[encoded data removed]",
      "text/plain": [
       "<Figure size 432x288 with 2 Axes>"
      ]
     },
     "metadata": {
      "needs_background": "light"
     },
     "output_type": "display_data"
    }
   ],
   "source": [
    "param_grid={\"C\":[0.1, 1, 2, 3, 4, 5], \"penalty\":[\"l1\",\"l2\"]}\n",
    "\n",
    "# Entrenamos el modelo\n",
    "grid = GridSearchCV(lr, param_grid, scoring=\"accuracy\", cv=10, n_jobs=-1)\n",
    "grid.fit(X_train, y_train)\n",
    "\n",
    "# Obtenemos el mejor estimador y los mejores parámetros\n",
    "best_model = grid.best_estimator_\n",
    "best_params = grid.best_params_\n",
    "print(\"Best estimator: \" + str(best_model))\n",
    "print(\"Best parameter (CV score=%0.3f):\" % grid.best_score_)\n",
    "print(\"----------\")\n",
    "\n",
    "# Predicciones en el set de entrenamiento\n",
    "grid_pred = best_model.predict(X_train)\n",
    "\n",
    "# Métricas obtenidas sin CV\n",
    "Display_Score(y_train, grid_pred)\n",
    "\n",
    "# Métricas obtenidas con CV\n",
    "grid_cv_scores = cross_val_score(best_model, X_train, y_train, scoring=\"accuracy\", cv=10)\n",
    "Display_CV_Scores(grid_cv_scores)\n",
    "\n",
    "# Visualizacion\n",
    "VisualizeConfusionMatrix(X_train, y_train, rf_pred)"
   ]
  },
  {
   "cell_type": "markdown",
   "metadata": {},
   "source": [
    "Conclusiones del modelo mejorado:\n",
    " - Hemos ejecutado el proceso probando diferentes hyperparameters para logistic regression, pero no ha habido mejora.\n",
    " - Sabemos cuales son los hyperparameters óptimos para este conjunto de datos y este modelo.\n",
    " - No hay overfitting comparando con CV y sin CV, por lo que no esperamos un resultado mucho peor en el testing."
   ]
  },
  {
   "cell_type": "markdown",
   "metadata": {},
   "source": [
    "### Evaluation\n",
    "\n",
    "Una vez tenemos elegido el mejor modelo con los mejores hyperparameters, ejecutamos con los datos del set de test que no ha sido utilizado en ningún caso."
   ]
  },
  {
   "cell_type": "code",
   "execution_count": 36,
   "metadata": {},
   "outputs": [
    {
     "data": {
      "text/html": [
       "<div>\n",
       "<style scoped>\n",
       "    .dataframe tbody tr th:only-of-type {\n",
       "        vertical-align: middle;\n",
       "    }\n",
       "\n",
       "    .dataframe tbody tr th {\n",
       "        vertical-align: top;\n",
       "    }\n",
       "\n",
       "    .dataframe thead th {\n",
       "        text-align: right;\n",
       "    }\n",
       "</style>\n",
       "<table border=\"1\" class=\"dataframe\">\n",
       "  <thead>\n",
       "    <tr style=\"text-align: right;\">\n",
       "      <th></th>\n",
       "      <th>Goals</th>\n",
       "      <th>Goals_Against</th>\n",
       "      <th>Best_Teams</th>\n",
       "    </tr>\n",
       "  </thead>\n",
       "  <tbody>\n",
       "    <tr>\n",
       "      <td>33</td>\n",
       "      <td>-0.093397</td>\n",
       "      <td>-0.402670</td>\n",
       "      <td>1</td>\n",
       "    </tr>\n",
       "    <tr>\n",
       "      <td>9</td>\n",
       "      <td>1.048403</td>\n",
       "      <td>-0.402670</td>\n",
       "      <td>1</td>\n",
       "    </tr>\n",
       "    <tr>\n",
       "      <td>146</td>\n",
       "      <td>-0.738763</td>\n",
       "      <td>1.271519</td>\n",
       "      <td>0</td>\n",
       "    </tr>\n",
       "    <tr>\n",
       "      <td>282</td>\n",
       "      <td>-0.540189</td>\n",
       "      <td>-0.163500</td>\n",
       "      <td>1</td>\n",
       "    </tr>\n",
       "    <tr>\n",
       "      <td>261</td>\n",
       "      <td>-1.185554</td>\n",
       "      <td>0.394563</td>\n",
       "      <td>0</td>\n",
       "    </tr>\n",
       "  </tbody>\n",
       "</table>\n",
       "</div>"
      ],
      "text/plain": [
       "        Goals  Goals_Against  Best_Teams\n",
       "33  -0.093397      -0.402670           1\n",
       "9    1.048403      -0.402670           1\n",
       "146 -0.738763       1.271519           0\n",
       "282 -0.540189      -0.163500           1\n",
       "261 -1.185554       0.394563           0"
      ]
     },
     "execution_count": 36,
     "metadata": {},
     "output_type": "execute_result"
    }
   ],
   "source": [
    "prep_test = PreparingData_v2(test_set)\n",
    "\n",
    "prep_test.head()"
   ]
  },
  {
   "cell_type": "code",
   "execution_count": 37,
   "metadata": {},
   "outputs": [],
   "source": [
    "X_test, y_test = splitDT(prep_test, 'Best_Teams')"
   ]
  },
  {
   "cell_type": "code",
   "execution_count": 38,
   "metadata": {},
   "outputs": [
    {
     "name": "stdout",
     "output_type": "stream",
     "text": [
      "Accuracy Score:  0.9152542372881356\n"
     ]
    },
    {
     "data": {
      "image/png": "[encoded data removed]",
      "text/plain": [
       "<Figure size 432x288 with 2 Axes>"
      ]
     },
     "metadata": {
      "needs_background": "light"
     },
     "output_type": "display_data"
    }
   ],
   "source": [
    "# Predicciones en el set de test\n",
    "final_predictions = best_model.predict(X_test)\n",
    "\n",
    "# Las métricas obtenidas en el test set\n",
    "acc = accuracy_score(y_test, final_predictions)\n",
    "print(\"Accuracy Score: \", acc)\n",
    "\n",
    "# Visualizacion\n",
    "VisualizeConfusionMatrix(X_test, y_test, final_predictions)"
   ]
  },
  {
   "cell_type": "markdown",
   "metadata": {},
   "source": [
    "Conclusiones del modelo final y el set de test:\n",
    " - Los resultados mejoran, tenemos un accuracy del 92% en el set de test.\n",
    " - El algoritmo que hemos desarrollado predice con un accuracy muy interesante si un equipo va a quedar entre la primera mitad de la tabla o entre la segunda.\n",
    " - Funciona ligeramente mejor para la clase 0, es decir, para los que quedan entre los peores."
   ]
  },
  {
   "cell_type": "markdown",
   "metadata": {},
   "source": [
    "### Deployment"
   ]
  },
  {
   "cell_type": "code",
   "execution_count": 39,
   "metadata": {},
   "outputs": [
    {
     "data": {
      "text/plain": [
       "['models/practica_clasificacion.pkl']"
      ]
     },
     "execution_count": 39,
     "metadata": {},
     "output_type": "execute_result"
    }
   ],
   "source": [
    "import joblib\n",
    "joblib.dump(best_model, 'models/practica_clasificacion.pkl')"
   ]
  }
 ],
 "metadata": {
  "kernelspec": {
   "display_name": "Python 3 (ipykernel)",
   "language": "python",
   "name": "python3"
  },
  "language_info": {
   "codemirror_mode": {
    "name": "ipython",
    "version": 3
   },
   "file_extension": ".py",
   "mimetype": "text/x-python",
   "name": "python",
   "nbconvert_exporter": "python",
   "pygments_lexer": "ipython3",
   "version": "3.11.5"
  }
 },
 "nbformat": 4,
 "nbformat_minor": 4
}
